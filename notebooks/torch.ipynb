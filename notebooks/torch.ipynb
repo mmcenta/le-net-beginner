{
  "nbformat": 4,
  "nbformat_minor": 0,
  "metadata": {
    "colab": {
      "name": "modern-le-net-torch.ipynb",
      "provenance": [],
      "include_colab_link": true
    },
    "kernelspec": {
      "name": "python3",
      "display_name": "Python 3"
    },
    "accelerator": "GPU"
  },
  "cells": [
    {
      "cell_type": "markdown",
      "metadata": {
        "id": "view-in-github",
        "colab_type": "text"
      },
      "source": [
        "<a href=\"https://colab.research.google.com/github/mmcenta/le-net-beginner/blob/master/notebooks/torch.ipynb\" target=\"_parent\"><img src=\"https://colab.research.google.com/assets/colab-badge.svg\" alt=\"Open In Colab\"/></a>"
      ]
    },
    {
      "cell_type": "code",
      "metadata": {
        "id": "qgF04C28CKK1",
        "colab_type": "code",
        "colab": {}
      },
      "source": [
        "%matplotlib inline"
      ],
      "execution_count": 0,
      "outputs": []
    },
    {
      "cell_type": "markdown",
      "metadata": {
        "id": "89J8wS8BlJab",
        "colab_type": "text"
      },
      "source": [
        "# Modern LeNet in PyTorch\n",
        "\n",
        "This notebook is an implementation of the \"Hello World\" of ConvNets: the LeNet 5 architecture, evaluated on the MNIST dataset.\n",
        "\n",
        "This is intended as a tool for beginners to get familiar with PyTorch as well as a training exercise for myself (very much a beginner to PyTorch as well).\n",
        "\n",
        "This notebooks draws heavily from the PyTorch turorials in style and topic order.\n",
        "\n",
        "Now that the introduction is out of the way, let's build our network!\n",
        "\n"
      ]
    },
    {
      "cell_type": "markdown",
      "metadata": {
        "id": "bUPG3gISegZt",
        "colab_type": "text"
      },
      "source": [
        "## Load the data\n",
        "\n",
        "Let's load the MNIST dataset from `torchvision`. We will also apply a\n",
        "transformation pipeline that converts the images to tensors and normalizes them\n",
        "to the [-1.0, 1.0] range.\n",
        "\n",
        "First, we import the necessary modules and classes."
      ]
    },
    {
      "cell_type": "code",
      "metadata": {
        "id": "UeqxgYBIlQFf",
        "colab_type": "code",
        "colab": {}
      },
      "source": [
        "import torch\n",
        "import torchvision\n",
        "import torchvision.transforms as transforms\n",
        "from torchvision.datasets import MNIST\n",
        "from torch.utils.data import DataLoader"
      ],
      "execution_count": 0,
      "outputs": []
    },
    {
      "cell_type": "markdown",
      "metadata": {
        "id": "1k2EZiLszEx7",
        "colab_type": "text"
      },
      "source": [
        "Then we load the train and dev sets into `DataLoaders`."
      ]
    },
    {
      "cell_type": "code",
      "metadata": {
        "id": "57oHZngXmuij",
        "colab_type": "code",
        "colab": {}
      },
      "source": [
        "# Declare image transform pipeline\n",
        "transform = transforms.Compose([\n",
        "  transforms.ToTensor(),\n",
        "  transforms.Normalize((0.1307,), (0.3081,))                               \n",
        "])\n",
        "\n",
        "# Load train set\n",
        "train_set = MNIST(root='./data', train=True, download=True, transform=transform)\n",
        "train_loader = DataLoader(train_set, batch_size=64, shuffle=True, num_workers=2)\n",
        "\n",
        "# Load dev set\n",
        "dev_set = MNIST(root='./data', train=False, download=True, transform=transform)\n",
        "dev_loader = DataLoader(dev_set, batch_size=64, shuffle=False, num_workers=2)"
      ],
      "execution_count": 0,
      "outputs": []
    },
    {
      "cell_type": "markdown",
      "metadata": {
        "id": "wsY6CyL0gPLh",
        "colab_type": "text"
      },
      "source": [
        "Let's see a random batch of images and their labels."
      ]
    },
    {
      "cell_type": "code",
      "metadata": {
        "id": "sQlR0ALpgG5y",
        "colab_type": "code",
        "outputId": "cbee197e-682b-4cf7-b8cd-133bea53dabe",
        "colab": {
          "base_uri": "https://localhost:8080/",
          "height": 422
        }
      },
      "source": [
        "import matplotlib.pyplot as plt\n",
        "import numpy as np\n",
        "\n",
        "# Show an image\n",
        "def show_image(img):\n",
        "  img = 0.3081 * img + 0.1307     # unnormalize\n",
        "  npimg = img.numpy()\n",
        "  plt.imshow(np.transpose(npimg, (1, 2, 0)))\n",
        "\n",
        "\n",
        "# get some random training images\n",
        "dataiter = iter(train_loader)\n",
        "images, labels = dataiter.next()\n",
        "\n",
        "# show images\n",
        "show_image(torchvision.utils.make_grid(images))\n",
        "# print labels\n",
        "print('labels:\\n'+'\\n'.join(' '.join('%s' % labels[j].item() for j in range(8*i, 8*(i+1))) for i in range(8)))"
      ],
      "execution_count": 4,
      "outputs": [
        {
          "output_type": "stream",
          "text": [
            "labels:\n",
            "5 9 1 9 7 8 9 5\n",
            "0 6 7 6 1 8 5 5\n",
            "9 6 3 1 1 1 7 2\n",
            "8 0 6 2 4 9 6 7\n",
            "0 6 0 7 9 7 7 0\n",
            "5 6 0 4 5 9 1 9\n",
            "7 7 5 6 4 8 9 9\n",
            "8 3 7 7 4 1 3 0\n"
          ],
          "name": "stdout"
        },
        {
          "output_type": "display_data",
          "data": {
            "image/png": "[encoded data removed]",
            "text/plain": [
              "<Figure size 432x288 with 1 Axes>"
            ]
          },
          "metadata": {
            "tags": []
          }
        }
      ]
    },
    {
      "cell_type": "markdown",
      "metadata": {
        "id": "hi5Xfu-HzdSB",
        "colab_type": "text"
      },
      "source": [
        "## Define the model\n",
        "\n",
        "Next we need to define the model we'll be using. We will be using a convolutional neural network deeply inspired on the classic LeNet architecture proposed in the \"Gradient-based learning applied to document recognition\" paper by LeCun et al."
      ]
    },
    {
      "cell_type": "code",
      "metadata": {
        "id": "7KLkKHY90j_B",
        "colab_type": "code",
        "colab": {}
      },
      "source": [
        "import torch.nn as nn\n",
        "import torch.nn.functional as F\n",
        "\n",
        "class ModernLeNet(nn.Module):\n",
        "  def __init__(self):\n",
        "    super(ModernLeNet, self).__init__()\n",
        "    \n",
        "    # Convolutional layers\n",
        "    self.conv1 = nn.Conv2d(1, 6, 5, padding=2)\n",
        "    self.maxpool1 = nn.MaxPool2d(2)\n",
        "    self.conv2 = nn.Conv2d(6, 16, 5)\n",
        "    self.maxpool2 = nn.MaxPool2d(2)\n",
        "\n",
        "    # Fully connected layers\n",
        "    self.fc1 = nn.Linear(16 * 5 * 5, 120) # unroll 5x5 image with 16 filters\n",
        "    self.fc2 = nn.Linear(120, 84)\n",
        "    self.fc3 = nn.Linear(84, 10)\n",
        "\n",
        "  def forward(self, x):\n",
        "    # Convolutional part\n",
        "    x = F.relu(self.conv1(x))\n",
        "    x = self.maxpool1(x)\n",
        "    x = F.relu(self.conv2(x))\n",
        "    x = self.maxpool2(x)\n",
        "\n",
        "    # Flatten the output volume\n",
        "    n_batch = x.size()[0]\n",
        "    x = x.view(n_batch, -1)\n",
        "\n",
        "    # Fully connected part\n",
        "    x = F.relu(self.fc1(x))\n",
        "    x = F.relu(self.fc2(x))\n",
        "    x = self.fc3(x)\n",
        "\n",
        "    return x\n",
        "\n",
        "model = ModernLeNet()"
      ],
      "execution_count": 0,
      "outputs": []
    },
    {
      "cell_type": "markdown",
      "metadata": {
        "id": "0ngqKkZTnaeg",
        "colab_type": "text"
      },
      "source": [
        "Before defining the loss function and the optimizer, transfer the model to the GPU if avaible."
      ]
    },
    {
      "cell_type": "code",
      "metadata": {
        "id": "b7qn86AMmCYL",
        "colab_type": "code",
        "outputId": "c1993e60-289f-4f10-f2db-17df75fb78e4",
        "colab": {
          "base_uri": "https://localhost:8080/",
          "height": 34
        }
      },
      "source": [
        "# Get the device that will be used in training\n",
        "device = torch.device(\"cuda:0\" if torch.cuda.is_available() else \"cpu\")\n",
        "\n",
        "# Transfer the model to the correct device\n",
        "model.to(device)\n",
        "\n",
        "print(device)"
      ],
      "execution_count": 6,
      "outputs": [
        {
          "output_type": "stream",
          "text": [
            "cuda:0\n"
          ],
          "name": "stdout"
        }
      ]
    },
    {
      "cell_type": "markdown",
      "metadata": {
        "id": "2iHuBoIElhES",
        "colab_type": "text"
      },
      "source": [
        "We will use the cross entropy loss for this clasification task, as well as the Adam optimizer with default parameters."
      ]
    },
    {
      "cell_type": "code",
      "metadata": {
        "id": "zz4jGb9QmUDS",
        "colab_type": "code",
        "colab": {}
      },
      "source": [
        "import torch.optim as optim\n",
        "\n",
        "loss_fn = nn.CrossEntropyLoss()\n",
        "optimizer = optim.Adam(model.parameters())"
      ],
      "execution_count": 0,
      "outputs": []
    },
    {
      "cell_type": "markdown",
      "metadata": {
        "id": "K2LQmV4wpN_O",
        "colab_type": "text"
      },
      "source": [
        "## Train the model\n",
        "\n",
        "We will iterate over the training data for 100 epochs and print the loss each 5 epochs."
      ]
    },
    {
      "cell_type": "code",
      "metadata": {
        "id": "NIhuglripqp0",
        "colab_type": "code",
        "outputId": "6a4573bc-5488-428a-8036-367dfedc2de6",
        "colab": {
          "base_uri": "https://localhost:8080/",
          "height": 544
        }
      },
      "source": [
        "num_batches = int(len(train_set)/64 + 1)\n",
        "losses = []\n",
        "\n",
        "# Train for 30 epochs\n",
        "for epoch in range(30):\n",
        "  running_loss = 0.0\n",
        "\n",
        "  for i, data in enumerate(train_loader, 0):\n",
        "    # Get the inputs and transfer them to device\n",
        "    inputs, labels = data\n",
        "    inputs, labels = inputs.to(device), labels.to(device)\n",
        "\n",
        "    # Zero the gradients\n",
        "    optimizer.zero_grad()\n",
        "\n",
        "    # Train on this mini-batch\n",
        "    outputs = model(inputs)           # forward pass\n",
        "    loss = loss_fn(outputs, labels)   # calculate loss\n",
        "    loss.backward()                   # backward pass\n",
        "    optimizer.step()                  # update parameters\n",
        "\n",
        "    # Update loss\n",
        "    running_loss += loss.item()\n",
        "    losses.append(loss.item())\n",
        "  \n",
        "  # Print the average loss for this epoch\n",
        "  print('[epoch %d] loss: %.3f' % (epoch+1, running_loss/num_batches))\n",
        "      \n",
        "print('Finished Training')"
      ],
      "execution_count": 8,
      "outputs": [
        {
          "output_type": "stream",
          "text": [
            "[epoch 1] loss: 0.245\n",
            "[epoch 2] loss: 0.066\n",
            "[epoch 3] loss: 0.045\n",
            "[epoch 4] loss: 0.036\n",
            "[epoch 5] loss: 0.030\n",
            "[epoch 6] loss: 0.025\n",
            "[epoch 7] loss: 0.021\n",
            "[epoch 8] loss: 0.018\n",
            "[epoch 9] loss: 0.015\n",
            "[epoch 10] loss: 0.013\n",
            "[epoch 11] loss: 0.014\n",
            "[epoch 12] loss: 0.011\n",
            "[epoch 13] loss: 0.010\n",
            "[epoch 14] loss: 0.009\n",
            "[epoch 15] loss: 0.009\n",
            "[epoch 16] loss: 0.010\n",
            "[epoch 17] loss: 0.006\n",
            "[epoch 18] loss: 0.007\n",
            "[epoch 19] loss: 0.008\n",
            "[epoch 20] loss: 0.006\n",
            "[epoch 21] loss: 0.005\n",
            "[epoch 22] loss: 0.009\n",
            "[epoch 23] loss: 0.005\n",
            "[epoch 24] loss: 0.006\n",
            "[epoch 25] loss: 0.006\n",
            "[epoch 26] loss: 0.006\n",
            "[epoch 27] loss: 0.005\n",
            "[epoch 28] loss: 0.004\n",
            "[epoch 29] loss: 0.008\n",
            "[epoch 30] loss: 0.004\n",
            "Finished Training\n"
          ],
          "name": "stdout"
        }
      ]
    },
    {
      "cell_type": "markdown",
      "metadata": {
        "id": "cKqW6Vn5_zyP",
        "colab_type": "text"
      },
      "source": [
        "Now let's print the evolution of the loss for each mini-batch:"
      ]
    },
    {
      "cell_type": "code",
      "metadata": {
        "id": "4O8OteJ6_9AL",
        "colab_type": "code",
        "colab": {
          "base_uri": "https://localhost:8080/",
          "height": 283
        },
        "outputId": "41f1011c-972f-484f-ef30-bd6c222ec1dc"
      },
      "source": [
        "plt.plot(losses)\n",
        "plt.ylabel('loss')\n",
        "plt.xlabel('mini-batches')\n",
        "plt.show()"
      ],
      "execution_count": 9,
      "outputs": [
        {
          "output_type": "display_data",
          "data": {
            "image/png": "[encoded data removed]",
            "text/plain": [
              "<Figure size 432x288 with 1 Axes>"
            ]
          },
          "metadata": {
            "tags": []
          }
        }
      ]
    },
    {
      "cell_type": "markdown",
      "metadata": {
        "id": "An1YsOYFgzfY",
        "colab_type": "text"
      },
      "source": [
        "Let's evaluate the accuracy of the model in the training set:"
      ]
    },
    {
      "cell_type": "code",
      "metadata": {
        "id": "X7efA4W1mCYG",
        "colab_type": "code",
        "colab": {
          "base_uri": "https://localhost:8080/",
          "height": 34
        },
        "outputId": "a6cfba35-1a04-4222-f2ab-ae9f27e3361b"
      },
      "source": [
        "correct = 0\n",
        "total = 0\n",
        "with torch.no_grad():\n",
        "  for data in train_loader:\n",
        "    images, labels = data\n",
        "    images, labels = images.to(device), labels.to(device)\n",
        "\n",
        "    outputs = model(images)\n",
        "    _, predicted = torch.max(outputs.data, 1)\n",
        "\n",
        "    total += labels.size(0)\n",
        "    correct += (predicted == labels).sum().item()\n",
        "\n",
        "print('Accuracy of the network on the 10000 test images: %d %%' % (\n",
        "      100 * correct / total))"
      ],
      "execution_count": 10,
      "outputs": [
        {
          "output_type": "stream",
          "text": [
            "Accuracy of the network on the 10000 test images: 99 %\n"
          ],
          "name": "stdout"
        }
      ]
    },
    {
      "cell_type": "markdown",
      "metadata": {
        "id": "Xi2_HiHEhhLt",
        "colab_type": "text"
      },
      "source": [
        "Not bad, but we are likely overfitting the training set."
      ]
    },
    {
      "cell_type": "markdown",
      "metadata": {
        "id": "rwv8sucNAbxX",
        "colab_type": "text"
      },
      "source": [
        "## Evaluating the model\n",
        "\n",
        "Now let's evaluate the model's performance on our dev set:"
      ]
    },
    {
      "cell_type": "code",
      "metadata": {
        "colab_type": "code",
        "id": "xmIfS-3whjg8",
        "colab": {
          "base_uri": "https://localhost:8080/",
          "height": 34
        },
        "outputId": "525a7f26-8283-47e8-f503-70025c815e54"
      },
      "source": [
        "correct = 0\n",
        "total = 0\n",
        "with torch.no_grad():\n",
        "  for data in dev_loader:\n",
        "    images, labels = data\n",
        "    images, labels = images.to(device), labels.to(device)\n",
        "\n",
        "    outputs = model(images)\n",
        "    _, predicted = torch.max(outputs.data, 1)\n",
        "\n",
        "    total += labels.size(0)\n",
        "    correct += (predicted == labels).sum().item()\n",
        "\n",
        "print('Accuracy of the network on the 10000 test images: %d %%' % (\n",
        "      100 * correct / total))"
      ],
      "execution_count": 11,
      "outputs": [
        {
          "output_type": "stream",
          "text": [
            "Accuracy of the network on the 10000 test images: 98 %\n"
          ],
          "name": "stdout"
        }
      ]
    },
    {
      "cell_type": "markdown",
      "metadata": {
        "id": "uIv4lM1gmake",
        "colab_type": "text"
      },
      "source": [
        "Just a little bit worse than the training set, but still way better than random! Let's print the confusion matrix to figure out where the network is making mistakes."
      ]
    },
    {
      "cell_type": "code",
      "metadata": {
        "id": "V-L2QHFJihI8",
        "colab_type": "code",
        "colab": {
          "base_uri": "https://localhost:8080/",
          "height": 268
        },
        "outputId": "612c3d9f-7af2-4b53-db09-7dd4108345e9"
      },
      "source": [
        "import matplotlib.ticker as ticker\n",
        "\n",
        "# Calculate the confusion matrix on the dev set\n",
        "def get_confusion_matrix():\n",
        "  confusion = np.zeros((10, 10))\n",
        "\n",
        "  # Count the mistakes made on the dev set\n",
        "  with torch.no_grad():\n",
        "    for data in dev_loader:\n",
        "      images, labels = data\n",
        "      images, labels = images.to(device), labels.to(device)\n",
        "\n",
        "      outputs = model(images)\n",
        "      _, predicted = torch.max(outputs, 1)\n",
        "\n",
        "      for i in range(labels.size(0)):\n",
        "        confusion[labels[i]][predicted[i].item()] += 1.0\n",
        "\n",
        "  # Normalize by dividing every row by its sum\n",
        "  for i in range(10):\n",
        "    confusion[i] = confusion[i] / confusion[i].sum()\n",
        "\n",
        "  return confusion\n",
        "\n",
        "def show_matrix(m):\n",
        "  # Set up plot\n",
        "  fig = plt.figure()\n",
        "  ax = fig.add_subplot(111)\n",
        "  cax = ax.matshow(confusion)\n",
        "  fig.colorbar(cax)\n",
        "\n",
        "  # Set up axes\n",
        "  n = m.shape[0]\n",
        "  ax.set_xticklabels([''] + [str(i) for i in range(n)], rotation=90)\n",
        "  ax.set_yticklabels([''] + [str(i) for i in range(n)])\n",
        "\n",
        "  # Force label at every tick\n",
        "  ax.xaxis.set_major_locator(ticker.MultipleLocator(1))\n",
        "  ax.yaxis.set_major_locator(ticker.MultipleLocator(1))\n",
        "\n",
        "  plt.show()\n",
        "\n",
        "confusion = get_confusion_matrix()\n",
        "show_matrix(confusion)"
      ],
      "execution_count": 12,
      "outputs": [
        {
          "output_type": "display_data",
          "data": {
            "image/png": "[encoded data removed]",
            "text/plain": [
              "<Figure size 432x288 with 2 Axes>"
            ]
          },
          "metadata": {
            "tags": []
          }
        }
      ]
    },
    {
      "cell_type": "markdown",
      "metadata": {
        "id": "tl9RJqnBTY00",
        "colab_type": "text"
      },
      "source": [
        "Well, that wasn't very helpful. Let's try setting the diagonal to 0 and re-normalizing the rows so we can better analyse the mistakes."
      ]
    },
    {
      "cell_type": "code",
      "metadata": {
        "id": "SJEkXpPMTnG5",
        "colab_type": "code",
        "colab": {
          "base_uri": "https://localhost:8080/",
          "height": 268
        },
        "outputId": "dc99ffe3-483e-47f7-ee8b-2750519eaf24"
      },
      "source": [
        "# Set the principal diagonal of the confusion matrix to 0 and re-normalize rows\n",
        "for i in range(10):\n",
        "  confusion[i][i] = 0.0\n",
        "  confusion[i] = confusion[i] / confusion[i].sum()\n",
        "\n",
        "# Display the matrix\n",
        "show_matrix(confusion)"
      ],
      "execution_count": 13,
      "outputs": [
        {
          "output_type": "display_data",
          "data": {
            "image/png": "[encoded data removed]",
            "text/plain": [
              "<Figure size 432x288 with 2 Axes>"
            ]
          },
          "metadata": {
            "tags": []
          }
        }
      ]
    },
    {
      "cell_type": "markdown",
      "metadata": {
        "id": "cpLh0zfmUOX8",
        "colab_type": "text"
      },
      "source": [
        "\n",
        "Keep in mind two things:\n",
        "* The rows are the ground-truth and the columns are the guesses of the model.\n",
        "* We have normalized the matrix by row, so a these values should analysed per row. More specifically, the model predicting 5's for 3's isn't necessarily the the most common mistake across all classes, but it is the most common mistake the model does when labeling 5's.\n",
        "\n",
        "We see a couple of expected confusions: 0's with 6's, 3's with 5's, 3's with 8's, etc. These are hard for humans to distinguish sometimes. Let's see some examples of errors the model does. The following cell will find a mislabeled example and show it: "
      ]
    },
    {
      "cell_type": "code",
      "metadata": {
        "colab_type": "code",
        "outputId": "1424fe3c-9759-49f8-ed82-dcc0e9dbf88b",
        "id": "jI-KULQsW7gF",
        "colab": {
          "base_uri": "https://localhost:8080/",
          "height": 320
        }
      },
      "source": [
        "# Create a new shuffled loader so we get a different instance at each execution\n",
        "dev_shuffle_loader = DataLoader(dev_set, batch_size=64, shuffle=True,\n",
        "                                num_workers=2) \n",
        "\n",
        "with torch.no_grad():\n",
        "  found = False\n",
        "\n",
        "  for data in dev_shuffle_loader:\n",
        "    images, labels = data\n",
        "    images, labels = images.to(device), labels.to(device)\n",
        "\n",
        "    outputs = model(images)\n",
        "    _, predicted = torch.max(outputs.data, 1)\n",
        "\n",
        "    for i in range(labels.size(0)):\n",
        "      if predicted[i] != labels[i]:\n",
        "        found = True\n",
        "\n",
        "        # Show image\n",
        "        show_image(torchvision.utils.make_grid(images[i].cpu()))\n",
        "\n",
        "        # Calculate confidence\n",
        "        confidence = F.softmax(outputs[i], dim=0)\n",
        "\n",
        "        # Print information about the mistake\n",
        "        actual, guess = labels[i].item(), predicted[i].item()\n",
        "        print('actual: %d - guess: %d' % (actual, guess))\n",
        "        print('confidence in %d: %.3f' % (guess, confidence[guess].item()))\n",
        "        print('confidence in %d: %.3f' % (actual, confidence[actual].item()))\n",
        "        break\n",
        "    \n",
        "    if found:\n",
        "      break"
      ],
      "execution_count": 14,
      "outputs": [
        {
          "output_type": "stream",
          "text": [
            "actual: 3 - guess: 5\n",
            "confidence in 5: 0.995\n",
            "confidence in 3: 0.005\n"
          ],
          "name": "stdout"
        },
        {
          "output_type": "display_data",
          "data": {
            "image/png": "[encoded data removed]",
            "text/plain": [
              "<Figure size 432x288 with 1 Axes>"
            ]
          },
          "metadata": {
            "tags": []
          }
        }
      ]
    },
    {
      "cell_type": "markdown",
      "metadata": {
        "id": "bIjYVa2Da2LT",
        "colab_type": "text"
      },
      "source": [
        "As we can see, a lot of the errors are on examples that are difficult even for humans to distinguish, so let's not be too critical :)\n",
        "\n",
        "And that's it: we trained a small ConvNet to classify hand-written digits with good precision without much tuning. \n",
        "\n",
        "Next, you can check out the notebook that does implements this same model using TensorFlow and Keras. \n",
        "\n",
        "Thanks for reading this notebook!"
      ]
    }
  ]
}